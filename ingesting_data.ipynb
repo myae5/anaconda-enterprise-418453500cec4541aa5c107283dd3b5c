{
 "cells": [
  {
   "cell_type": "markdown",
   "metadata": {},
   "source": [
    "## Ingesting Data with Intake\n",
    "\n",
    "Intake provides an easy way to find your data, locally, in a cloud service, or on an Intake server. Allowing users to load analysis-ready data without worrying about the specifics of the loading package, format and storage backend."
   ]
  },
  {
   "cell_type": "code",
   "execution_count": null,
   "metadata": {},
   "outputs": [],
   "source": [
    "import intake\n",
    "intake.output_notebook()"
   ]
  },
  {
   "cell_type": "markdown",
   "metadata": {},
   "source": [
    "## Catalogs\n",
    "\n",
    "The common starting point for finding and inspecting data-sets is with a catalog, which is a collection of entries, each of which corresponds to a specific data-set. The entries have names, descriptions and metadata, to allow for searching and filtering of the entries, to find the specific data which solves a particular problem."
   ]
  },
  {
   "cell_type": "code",
   "execution_count": null,
   "metadata": {},
   "outputs": [],
   "source": [
    "local_cat = intake.open_catalog('catalog.yml')\n",
    "list(local_cat)"
   ]
  },
  {
   "cell_type": "markdown",
   "metadata": {},
   "source": [
    "In addition to loading catalogs that are stored locally, you can use intake to explore remote catalogs. For instance we can take a look at the intake catalog of downloads from anaconda.org."
   ]
  },
  {
   "cell_type": "code",
   "execution_count": null,
   "metadata": {},
   "outputs": [],
   "source": [
    "url = 'https://raw.githubusercontent.com/ContinuumIO/anaconda-package-data/master/catalog/anaconda_package_data.yaml'\n",
    "remote_cat = intake.open_catalog(url)\n",
    "list(remote_cat)"
   ]
  },
  {
   "cell_type": "markdown",
   "metadata": {},
   "source": [
    "If you have access to an [intake-server](distributing_data.ipynb), then you will also be able to access catalogs at the server url. Replace MY_SERVER_URL in the cell below with the url at which you have deployed your server, but replace \"https\" with \"intake\"."
   ]
  },
  {
   "cell_type": "markdown",
   "metadata": {},
   "source": [
    "<div class=\"alert alert-warning\" role=\"alert\">\n",
    "    \n",
    "For instance if you deployed a server at `https://server.aip.anaconda.com` then you can will use `intake://server.aip.anaconda.com`. \n",
    "\n",
    "</div>"
   ]
  },
  {
   "cell_type": "code",
   "execution_count": null,
   "metadata": {},
   "outputs": [],
   "source": [
    "# replace this value with your own\n",
    "MY_SERVER_URL = 'intake://server.aip.anaconda.com'  \n",
    "\n",
    "server_cat = intake.open_catalog(MY_SERVER_URL, http_args={'ssl': True})\n",
    "list(server_cat)"
   ]
  },
  {
   "cell_type": "markdown",
   "metadata": {},
   "source": [
    "If you have installed a data package into your conda env (`conda install -c intake us_crime` for instance), this will be available at `intake.cat`. Otherwise the following call will return an empty list."
   ]
  },
  {
   "cell_type": "code",
   "execution_count": null,
   "metadata": {},
   "outputs": [],
   "source": [
    "list(intake.cat)"
   ]
  },
  {
   "cell_type": "markdown",
   "metadata": {},
   "source": [
    "<div class=\"alert alert-info\" role=\"alert\">\n",
    "    <b>NOTE:</b> To learn how to create your own data package, see <a href=distributing_data.ipynb>distributing_data.ipynb</a>.\n",
    "</div>"
   ]
  },
  {
   "cell_type": "markdown",
   "metadata": {},
   "source": [
    "## Data Sources\n",
    "\n",
    "No matter how you load your catalog, you should be able to use it to access the data sources within. You can think of the data sources as recipes for how to get the data. For information about how to create data sources see [distributing_data.ipynb](distributing_data.ipynb). These data sources have pointers, information on how to load it, and additional metadata. For instance, often data sources will have a description:"
   ]
  },
  {
   "cell_type": "code",
   "execution_count": null,
   "metadata": {},
   "outputs": [],
   "source": [
    "source = local_cat.southern_rockies\n",
    "print(source.description)"
   ]
  },
  {
   "cell_type": "markdown",
   "metadata": {},
   "source": [
    "Although we have read some metadata, at this point if the data are remote, they haven't been downloaded yet. With the next step we will read those data into a `pandas.DataFrame`."
   ]
  },
  {
   "cell_type": "code",
   "execution_count": null,
   "metadata": {},
   "outputs": [],
   "source": [
    "df = source.read()\n",
    "df.head()"
   ]
  },
  {
   "cell_type": "markdown",
   "metadata": {},
   "source": [
    "This is just a regular pandas dataframe which we can use for all regular pandas operations."
   ]
  },
  {
   "cell_type": "code",
   "execution_count": null,
   "metadata": {},
   "outputs": [],
   "source": [
    "mean_df = df.groupby(['emissions', 'model'])['precip'].mean()\n",
    "mean_df"
   ]
  },
  {
   "cell_type": "code",
   "execution_count": null,
   "metadata": {},
   "outputs": [],
   "source": [
    "import hvplot.pandas\n",
    "\n",
    "mean_df.hvplot.barh()"
   ]
  },
  {
   "cell_type": "markdown",
   "metadata": {},
   "source": [
    "If our data are large, we might not want to read them all straight away. In that case, we can use the `to_dask` method to read the metadata and set up tasks to be performed on our larger dataset. "
   ]
  },
  {
   "cell_type": "code",
   "execution_count": null,
   "metadata": {},
   "outputs": [],
   "source": [
    "ddf = source.to_dask()\n",
    "ddf"
   ]
  },
  {
   "cell_type": "markdown",
   "metadata": {},
   "source": [
    "## Plotting the data\n",
    "\n",
    "Catalogs can contain definitions of plots which are available all the time for the data. You can see a list of these plots:"
   ]
  },
  {
   "cell_type": "code",
   "execution_count": null,
   "metadata": {},
   "outputs": [],
   "source": [
    "source.plots"
   ]
  },
  {
   "cell_type": "code",
   "execution_count": null,
   "metadata": {},
   "outputs": [],
   "source": [
    "source.hvplot.violin_example()"
   ]
  },
  {
   "cell_type": "markdown",
   "metadata": {},
   "source": [
    "You can also create custom plots using `.hvplot`"
   ]
  },
  {
   "cell_type": "code",
   "execution_count": null,
   "metadata": {},
   "outputs": [],
   "source": [
    "source.hvplot.line(x='time', y='precip', groupby=['emissions', 'model'])"
   ]
  },
  {
   "cell_type": "markdown",
   "metadata": {},
   "source": [
    "## Graphical interface\n",
    "\n",
    "You can also explore the catalog using the GUI. Since the GUI depends on [Panel](https://panel.pyviz.org), you can use it in the notebook, or deploy an instance of the gui for `catalog.yml` by clicking the \"Deploy\" button and choosing the command: `gui`."
   ]
  },
  {
   "cell_type": "code",
   "execution_count": null,
   "metadata": {},
   "outputs": [],
   "source": [
    "local_cat.gui"
   ]
  },
  {
   "cell_type": "markdown",
   "metadata": {},
   "source": [
    "To learn more about Intake, see [distributing_data.ipynb](distributing_data.ipynb) or visit the [Intake docs](https://intake.readthedocs.io)."
   ]
  },
  {
   "cell_type": "code",
   "execution_count": null,
   "metadata": {},
   "outputs": [],
   "source": []
  }
 ],
 "metadata": {
  "language_info": {
   "name": "python",
   "pygments_lexer": "ipython3"
  }
 },
 "nbformat": 4,
 "nbformat_minor": 2
}
